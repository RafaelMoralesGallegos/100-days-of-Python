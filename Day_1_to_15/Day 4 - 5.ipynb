{
 "cells": [
  {
   "cell_type": "markdown",
   "id": "29fc7cc7",
   "metadata": {},
   "source": [
    "## Day 4"
   ]
  },
  {
   "cell_type": "code",
   "execution_count": 1,
   "id": "9dd0014a",
   "metadata": {},
   "outputs": [
    {
     "name": "stdout",
     "output_type": "stream",
     "text": [
      "1.2331917332707278\n",
      "1.1659586663536392\n"
     ]
    }
   ],
   "source": [
    "import random\n",
    "random_interger = random.randint(0, 4)\n",
    "random_float = random.random()\n",
    "random_number = random_interger + random_float\n",
    "print(random_number)\n",
    "random_number_2 = random_float * 5\n",
    "print(random_number_2)"
   ]
  },
  {
   "cell_type": "code",
   "execution_count": 2,
   "id": "bddd5e7d",
   "metadata": {},
   "outputs": [
    {
     "name": "stdout",
     "output_type": "stream",
     "text": [
      "3.1416\n"
     ]
    }
   ],
   "source": [
    "import modpi as mmod #Perzonalized Module created by new python3 and downloading as .py file and deleting other.\n",
    "print(mmod.pi)"
   ]
  },
  {
   "cell_type": "code",
   "execution_count": 3,
   "id": "81ba8b0c",
   "metadata": {},
   "outputs": [
    {
     "name": "stdout",
     "output_type": "stream",
     "text": [
      "What do you choose? Type 0 for Rock, 1 for Paper or 2 for Scissors.\n",
      "0\n",
      "You chose Rock\n",
      "\n",
      "    _______\n",
      "---'   ____)\n",
      "      (_____)\n",
      "      (_____)\n",
      "      (____)\n",
      "---.__(___)\n",
      "\n",
      "The computer chose Rock\n",
      "\n",
      "    _______\n",
      "---'   ____)\n",
      "      (_____)\n",
      "      (_____)\n",
      "      (____)\n",
      "---.__(___)\n",
      "\n",
      "You Draw.\n"
     ]
    }
   ],
   "source": [
    "rock = '''\n",
    "    _______\n",
    "---'   ____)\n",
    "      (_____)\n",
    "      (_____)\n",
    "      (____)\n",
    "---.__(___)\n",
    "'''\n",
    "\n",
    "paper = '''\n",
    "    _______\n",
    "---'   ____)____\n",
    "          ______)\n",
    "          _______)\n",
    "         _______)\n",
    "---.__________)\n",
    "'''\n",
    "\n",
    "scissors = '''\n",
    "    _______\n",
    "---'   ____)____\n",
    "          ______)\n",
    "       __________)\n",
    "      (____)\n",
    "---.__(___)\n",
    "'''\n",
    "\n",
    "#Write your code below this line 👇\n",
    "import random\n",
    "\n",
    "game_icons = [rock, paper, scissors]\n",
    "game_name = [\"Rock\", \"Paper\", \"Scissors\"]\n",
    "\n",
    "player = int(input(\"What do you choose? Type 0 for Rock, 1 for Paper or 2 for Scissors.\\n\"))\n",
    "print(f\"You chose {game_name[player]}\\n{game_icons[player]}\")\n",
    "\n",
    "computer = random.randint(0,2)\n",
    "print(f\"The computer chose {game_name[computer]}\\n{game_icons[computer]}\")\n",
    "\n",
    "if player >= 3 or player < 0:\n",
    "    print(\"You broke the rules, You lose.\")\n",
    "elif player == computer:\n",
    "    print(\"You Draw.\")\n",
    "elif player == 2 and computer == 0:\n",
    "    print(\"You Lose :(\")\n",
    "elif player == 0 and computer == 2:\n",
    "    print(\"You Win :)\")\n",
    "elif player < computer:\n",
    "    print(\"You Lose :(\")\n",
    "elif player > computer:\n",
    "    print(\"You Win :)\")"
   ]
  },
  {
   "cell_type": "markdown",
   "id": "47175a5f",
   "metadata": {},
   "source": [
    "## Day 5"
   ]
  },
  {
   "cell_type": "code",
   "execution_count": 4,
   "id": "7bbf122b",
   "metadata": {},
   "outputs": [
    {
     "name": "stdout",
     "output_type": "stream",
     "text": [
      "Rock\n",
      "Rock pie\n",
      "Paper\n",
      "Paper pie\n",
      "Scissors\n",
      "Scissors pie\n"
     ]
    }
   ],
   "source": [
    "for  icon in game_name:\n",
    "    print(icon)\n",
    "    print(icon + \" pie\")"
   ]
  },
  {
   "cell_type": "code",
   "execution_count": 5,
   "id": "a74ffc35",
   "metadata": {},
   "outputs": [
    {
     "name": "stdout",
     "output_type": "stream",
     "text": [
      "[1, 2, 3, 4, 5, 6, 7, 8, 9, 10]\n"
     ]
    }
   ],
   "source": [
    "password = []\n",
    "for n in range(1, 11):\n",
    "    password.append(n)\n",
    "print(password)\n"
   ]
  },
  {
   "cell_type": "code",
   "execution_count": 8,
   "id": "df34b3a0",
   "metadata": {},
   "outputs": [
    {
     "name": "stdout",
     "output_type": "stream",
     "text": [
      "Welcome to the PyPassword Generator!\n",
      "How many letters would you like in your password?\n",
      "6\n",
      "How many symbols would you like?\n",
      "2\n",
      "How many numbers would you like?\n",
      "2\n"
     ]
    }
   ],
   "source": [
    "#Password Generator Project\n",
    "import random\n",
    "letters = ['a', 'b', 'c', 'd', 'e', 'f', 'g', 'h', 'i', 'j', 'k', 'l', 'm', 'n', 'o', 'p', 'q', 'r', 's', 't', 'u', 'v', 'w', 'x', 'y', 'z', 'A', 'B', 'C', 'D', 'E', 'F', 'G', 'H', 'I', 'J', 'K', 'L', 'M', 'N', 'O', 'P', 'Q', 'R', 'S', 'T', 'U', 'V', 'W', 'X', 'Y', 'Z']\n",
    "numbers = ['0', '1', '2', '3', '4', '5', '6', '7', '8', '9']\n",
    "symbols = ['!', '#', '$', '%', '&', '(', ')', '*', '+']\n",
    "\n",
    "print(\"Welcome to the PyPassword Generator!\")\n",
    "nr_letters= int(input(\"How many letters would you like in your password?\\n\")) \n",
    "nr_symbols = int(input(f\"How many symbols would you like?\\n\"))\n",
    "nr_numbers = int(input(f\"How many numbers would you like?\\n\"))"
   ]
  },
  {
   "cell_type": "code",
   "execution_count": 9,
   "id": "bb11a80b",
   "metadata": {},
   "outputs": [
    {
     "name": "stdout",
     "output_type": "stream",
     "text": [
      "['g', 'v', 'U', 'g', 'P', 'R', '*', '(', '1', '1']\n",
      "['v', '(', '*', '1', '1', 'g', 'P', 'U', 'R', 'g']\n",
      "Your new password is: v(*11gPURg\n"
     ]
    }
   ],
   "source": [
    "password = []\n",
    "for n in range(1, nr_letters + 1):\n",
    "    password.append(letters[random.randint(0,len(letters)-1)])\n",
    "for n in range(1, nr_symbols + 1):\n",
    "    password.append(symbols[random.randint(0,len(symbols)-1)])\n",
    "for n in range(1, nr_numbers + 1):\n",
    "    password.append(numbers[random.randint(0,len(numbers)-1)])\n",
    "print(password)\n",
    "random.shuffle(password)\n",
    "print(password)\n",
    "strpassword = \"\"\n",
    "for n in password:\n",
    "    strpassword += n\n",
    "print(f\"Your new password is: {strpassword}\")"
   ]
  },
  {
   "cell_type": "markdown",
   "id": "335111b9",
   "metadata": {},
   "source": [
    "## Day 6"
   ]
  },
  {
   "cell_type": "code",
   "execution_count": null,
   "id": "db34bcf6",
   "metadata": {},
   "outputs": [],
   "source": []
  }
 ],
 "metadata": {
  "kernelspec": {
   "display_name": "Python 3 (ipykernel)",
   "language": "python",
   "name": "python3"
  },
  "language_info": {
   "codemirror_mode": {
    "name": "ipython",
    "version": 3
   },
   "file_extension": ".py",
   "mimetype": "text/x-python",
   "name": "python",
   "nbconvert_exporter": "python",
   "pygments_lexer": "ipython3",
   "version": "3.10.6"
  }
 },
 "nbformat": 4,
 "nbformat_minor": 5
}
